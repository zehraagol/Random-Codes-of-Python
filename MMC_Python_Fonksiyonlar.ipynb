{
  "nbformat": 4,
  "nbformat_minor": 0,
  "metadata": {
    "colab": {
      "name": "MMC Python Fonksiyonlar",
      "provenance": [],
      "authorship_tag": "ABX9TyOdVFaVayMqNuyy9TcMolme",
      "include_colab_link": true
    },
    "kernelspec": {
      "name": "python3",
      "display_name": "Python 3"
    },
    "language_info": {
      "name": "python"
    }
  },
  "cells": [
    {
      "cell_type": "markdown",
      "metadata": {
        "id": "view-in-github",
        "colab_type": "text"
      },
      "source": [
        "<a href=\"https://colab.research.google.com/github/zehraagol/Random-Codes-of-Python/blob/main/MMC_Python_Fonksiyonlar.ipynb\" target=\"_parent\"><img src=\"https://colab.research.google.com/assets/colab-badge.svg\" alt=\"Open In Colab\"/></a>"
      ]
    },
    {
      "cell_type": "code",
      "execution_count": null,
      "metadata": {
        "colab": {
          "base_uri": "https://localhost:8080/",
          "height": 166
        },
        "id": "UuyJp_nbnP07",
        "outputId": "15035cfb-d143-41e7-f28a-2673367eaf59"
      },
      "outputs": [
        {
          "output_type": "error",
          "ename": "NameError",
          "evalue": "ignored",
          "traceback": [
            "\u001b[0;31m---------------------------------------------------------------------------\u001b[0m",
            "\u001b[0;31mNameError\u001b[0m                                 Traceback (most recent call last)",
            "\u001b[0;32m<ipython-input-1-56b10488950f>\u001b[0m in \u001b[0;36m<module>\u001b[0;34m()\u001b[0m\n\u001b[0;32m----> 1\u001b[0;31m \u001b[0mhelp\u001b[0m\u001b[0;34m(\u001b[0m\u001b[0mappend\u001b[0m\u001b[0;34m)\u001b[0m \u001b[0;31m#methodlar napıyo unutursan bunu kullan\u001b[0m\u001b[0;34m\u001b[0m\u001b[0;34m\u001b[0m\u001b[0m\n\u001b[0m",
            "\u001b[0;31mNameError\u001b[0m: name 'append' is not defined"
          ]
        }
      ],
      "source": [
        "help(append) #methodlar napıyo unutursan bunu kullan"
      ]
    },
    {
      "cell_type": "code",
      "source": [
        "def selamla():\n",
        "  print(\"Selam arkadaşlar...\")\n",
        "  print(\"Nasılsınız?\")\n",
        "selamla()"
      ],
      "metadata": {
        "colab": {
          "base_uri": "https://localhost:8080/"
        },
        "id": "7tBvaYXWo3d-",
        "outputId": "96a8602a-d1d0-40ab-dbc0-1dac7cd6d6b8"
      },
      "execution_count": null,
      "outputs": [
        {
          "output_type": "stream",
          "name": "stdout",
          "text": [
            "Selam arkadaşlar...\n",
            "Nasılsınız?\n"
          ]
        }
      ]
    },
    {
      "cell_type": "code",
      "source": [
        "def faktoriyel(sayı): #sayı içine verdiğimiz degisken yani fonksiyonun argümanı\n",
        "  faktoriyel=1\n",
        "  if (sayı==0 or sayı==1):\n",
        "    print(\"Sayı faktoriyeli\", faktoriyel)\n",
        "  else:\n",
        "    while sayı>=1:\n",
        "     faktoriyel*=sayı\n",
        "     sayı-= 1\n",
        "   \n",
        "    print(faktoriyel)\n",
        "\n"
      ],
      "metadata": {
        "id": "EVtVZK0stBU1"
      },
      "execution_count": null,
      "outputs": []
    },
    {
      "cell_type": "code",
      "source": [
        "faktoriyel(5)"
      ],
      "metadata": {
        "colab": {
          "base_uri": "https://localhost:8080/"
        },
        "id": "6H5agLt7uf0U",
        "outputId": "0b0234ec-4b88-4e75-ecd1-2a1366ec5607"
      },
      "execution_count": null,
      "outputs": [
        {
          "output_type": "stream",
          "name": "stdout",
          "text": [
            "Faktoriyel 120\n"
          ]
        }
      ]
    },
    {
      "cell_type": "code",
      "source": [
        ""
      ],
      "metadata": {
        "id": "TIojzlnKuslC"
      },
      "execution_count": null,
      "outputs": []
    },
    {
      "cell_type": "code",
      "source": [
        "faktoriyel(5)"
      ],
      "metadata": {
        "colab": {
          "base_uri": "https://localhost:8080/"
        },
        "id": "NMR2bDFpwtt8",
        "outputId": "df1e24ed-e6ec-43b8-9c88-57b747c20de1"
      },
      "execution_count": null,
      "outputs": [
        {
          "output_type": "stream",
          "name": "stdout",
          "text": [
            "Faktoriyel 120\n"
          ]
        }
      ]
    },
    {
      "cell_type": "code",
      "source": [
        "#FONSIYONDA RETURN IFADESI\n",
        "def toplama(a,b,c): # Birinci fonksiyon\n",
        "    print(\"Toplamları\",a+b+c)\n",
        "\n",
        "def ikiyleçarp(a): # İkinci fonksiyon\n",
        "    print(\"2 ile çarpılmış hali\", a * 2)\n",
        "    \n",
        "toplam = toplama(3,4,5)\n",
        "\n",
        "ikiyleçarp(toplam) ##hata vercek"
      ],
      "metadata": {
        "id": "IFhSSGQ9wu-m"
      },
      "execution_count": null,
      "outputs": []
    },
    {
      "cell_type": "code",
      "source": [
        "def toplama(a,b,c):\n",
        "    return a+b+c # return'un kullanımı \n",
        "def ikiyle_çarp(a):\n",
        "    return a*2\n",
        "toplam = toplama(3,4,5)\n",
        "print(ikiyle_çarp(toplam))"
      ],
      "metadata": {
        "colab": {
          "base_uri": "https://localhost:8080/"
        },
        "id": "P8IR_kbZyLHq",
        "outputId": "cdac1b6d-5aa6-46cd-875b-251065b11482"
      },
      "execution_count": null,
      "outputs": [
        {
          "output_type": "stream",
          "name": "stdout",
          "text": [
            "24\n"
          ]
        }
      ]
    },
    {
      "cell_type": "code",
      "source": [
        "def selamla(isim = \"İsimsiz\"): #varsayılan deger\n",
        "  #hicbisi vermezsen isimsiz laak alır degiskeni bir sey de verebilirsin ama sadece isim degiskeni yazsan hicbisi yazmasan python senden illa degisken koy der\n",
        "  print(\"Selam\",isim)"
      ],
      "metadata": {
        "id": "VwhBKU-HyLPK"
      },
      "execution_count": null,
      "outputs": []
    },
    {
      "cell_type": "code",
      "source": [
        "selamla()"
      ],
      "metadata": {
        "colab": {
          "base_uri": "https://localhost:8080/"
        },
        "id": "HHJ8oTFNzQ60",
        "outputId": "b21653c5-426d-4e94-923b-bcada58eb96e"
      },
      "execution_count": null,
      "outputs": [
        {
          "output_type": "stream",
          "name": "stdout",
          "text": [
            "Selam İsimsiz\n"
          ]
        }
      ]
    },
    {
      "cell_type": "code",
      "source": [
        "selamla(\"zera\")"
      ],
      "metadata": {
        "colab": {
          "base_uri": "https://localhost:8080/"
        },
        "id": "yHIVzwz4zSIJ",
        "outputId": "0871f07c-46d0-4dd4-a8f6-ce16b152ce4d"
      },
      "execution_count": null,
      "outputs": [
        {
          "output_type": "stream",
          "name": "stdout",
          "text": [
            "Selam zera\n"
          ]
        }
      ]
    },
    {
      "cell_type": "code",
      "source": [
        "help(print) #print fonks ne default degerleri fln bilgi veriyor"
      ],
      "metadata": {
        "colab": {
          "base_uri": "https://localhost:8080/"
        },
        "id": "1Wrj0YxYzToL",
        "outputId": "fd08d460-3cc1-4557-eef7-f5c9431f81ab"
      },
      "execution_count": null,
      "outputs": [
        {
          "output_type": "stream",
          "name": "stdout",
          "text": [
            "Help on built-in function print in module builtins:\n",
            "\n",
            "print(...)\n",
            "    print(value, ..., sep=' ', end='\\n', file=sys.stdout, flush=False)\n",
            "    \n",
            "    Prints the values to a stream, or to sys.stdout by default.\n",
            "    Optional keyword arguments:\n",
            "    file:  a file-like object (stream); defaults to the current sys.stdout.\n",
            "    sep:   string inserted between values, default a space.\n",
            "    end:   string appended after the last value, default a newline.\n",
            "    flush: whether to forcibly flush the stream.\n",
            "\n"
          ]
        }
      ]
    },
    {
      "cell_type": "code",
      "source": [
        ""
      ],
      "metadata": {
        "id": "XKPNi5H9z_bq"
      },
      "execution_count": null,
      "outputs": []
    },
    {
      "cell_type": "markdown",
      "source": [
        "fınksiyona esnek degerler yollama\n"
      ],
      "metadata": {
        "id": "sG41VUok0Iw5"
      }
    },
    {
      "cell_type": "code",
      "source": [
        "def toplama(a,b,c): #buna 3 tane arguman erebiliriiiz toplama(3,4,5,6) dersen hata verir ama esnek yaparsa degiskeni vermez\n",
        "    print(a+b+c)\n",
        "    "
      ],
      "metadata": {
        "id": "kKU-iMlR0C5A"
      },
      "execution_count": null,
      "outputs": []
    },
    {
      "cell_type": "code",
      "source": [
        "def toplama(*a): #istedigin kadar degisken veriyon\n",
        " print(a)  "
      ],
      "metadata": {
        "id": "AoAYzXY10C64"
      },
      "execution_count": null,
      "outputs": []
    },
    {
      "cell_type": "code",
      "source": [
        "toplama(3,4,5,6,7,8,9)"
      ],
      "metadata": {
        "colab": {
          "base_uri": "https://localhost:8080/"
        },
        "id": "yTU6zDFk0C83",
        "outputId": "72dff70d-f7ba-4e74-ee29-4bdd30af1482"
      },
      "execution_count": null,
      "outputs": [
        {
          "output_type": "stream",
          "name": "stdout",
          "text": [
            "(3, 4, 5, 6, 7, 8, 9)\n"
          ]
        }
      ]
    },
    {
      "cell_type": "code",
      "source": [
        "def toplama(*parametreler): # Artık parametreler değişkenini bir demet gibi kullanabilirim.\n",
        "    toplam =  0\n",
        "    print(\"Parametreler:\",parametreler)\n",
        "    for i in parametreler:\n",
        "        toplam += i\n",
        "    return toplam"
      ],
      "metadata": {
        "id": "g24emm3l0iDg"
      },
      "execution_count": null,
      "outputs": []
    },
    {
      "cell_type": "code",
      "source": [
        ""
      ],
      "metadata": {
        "id": "D0gdM1mG0_BA"
      },
      "execution_count": null,
      "outputs": []
    },
    {
      "cell_type": "markdown",
      "source": [
        "GLOBAL VE LOCAL DEĞİŞKENLER\n",
        "Pythonda fonksiyonlarda tanımlanan değişkenler Python tarafından Yerel (Local) değişkenler olarak tanımlanırlar. Yani bir fonksiyon bloğunda oluşturulan değişkenler fonksiyona özgüdür ve fonksiyon çalışmasını bitirdikten sonra bu değişkenler bellekten silinir ve yok olur. Böylelikle , fonksiyon içinde tanımlanmış bir değişkene başka bir yerden erişilemez.\n",
        "\n",
        "Pythonda en genel kapsama sahip değişkenler ise Global değişkenler olarak tanımlanırlar ve global değişkenlere tanımlandığı andan itibaren programın her yerinden ulaşabiliriz."
      ],
      "metadata": {
        "id": "cDQXOz_qf6j9"
      }
    },
    {
      "cell_type": "code",
      "source": [
        "def  fonksiyon():\n",
        "  a=5     # Yerel isim alanında bir değişken\n",
        "  print(a)\n",
        "\n",
        "fonksiyon()\n",
        "print(a)     #a değişkeni yok oldu.\n"
      ],
      "metadata": {
        "colab": {
          "base_uri": "https://localhost:8080/",
          "height": 218
        },
        "id": "P6T48Z-mf-c8",
        "outputId": "82e60346-3230-4754-ebed-5a0337935ed3"
      },
      "execution_count": null,
      "outputs": [
        {
          "output_type": "stream",
          "name": "stdout",
          "text": [
            "5\n"
          ]
        },
        {
          "output_type": "error",
          "ename": "NameError",
          "evalue": "ignored",
          "traceback": [
            "\u001b[0;31m---------------------------------------------------------------------------\u001b[0m",
            "\u001b[0;31mNameError\u001b[0m                                 Traceback (most recent call last)",
            "\u001b[0;32m<ipython-input-3-4b28200e14a4>\u001b[0m in \u001b[0;36m<module>\u001b[0;34m()\u001b[0m\n\u001b[1;32m      4\u001b[0m \u001b[0;34m\u001b[0m\u001b[0m\n\u001b[1;32m      5\u001b[0m \u001b[0mfonksiyon\u001b[0m\u001b[0;34m(\u001b[0m\u001b[0;34m)\u001b[0m\u001b[0;34m\u001b[0m\u001b[0;34m\u001b[0m\u001b[0m\n\u001b[0;32m----> 6\u001b[0;31m \u001b[0mprint\u001b[0m\u001b[0;34m(\u001b[0m\u001b[0ma\u001b[0m\u001b[0;34m)\u001b[0m\u001b[0;34m\u001b[0m\u001b[0;34m\u001b[0m\u001b[0m\n\u001b[0m",
            "\u001b[0;31mNameError\u001b[0m: name 'a' is not defined"
          ]
        }
      ]
    },
    {
      "cell_type": "code",
      "source": [
        "a = 5 # Global isim alanında bir değişken .\n",
        "\n",
        "def fonksiyon():\n",
        "    print(a) # a değişkeni globalde tanımlandığı için burada tanımlı.\n",
        "    \n",
        "fonksiyon()"
      ],
      "metadata": {
        "colab": {
          "base_uri": "https://localhost:8080/"
        },
        "id": "FGZj_-htf-me",
        "outputId": "fc5eed35-3d11-48ee-a2c5-bdc055e26172"
      },
      "execution_count": null,
      "outputs": [
        {
          "output_type": "stream",
          "name": "stdout",
          "text": [
            "5\n"
          ]
        }
      ]
    },
    {
      "cell_type": "code",
      "source": [
        "def fonksiyon():\n",
        "    print(s)\n",
        "\n",
        "fonksiyon() # s global değişkeni henüz tanımlanmadığı için Python hata veriyor.\n",
        "s = \"Python\""
      ],
      "metadata": {
        "colab": {
          "base_uri": "https://localhost:8080/",
          "height": 339
        },
        "id": "cXioXFg0f-o1",
        "outputId": "60d66330-102b-4822-f153-0a7e28de95d7"
      },
      "execution_count": null,
      "outputs": [
        {
          "output_type": "error",
          "ename": "NameError",
          "evalue": "ignored",
          "traceback": [
            "\u001b[0;31m---------------------------------------------------------------------------\u001b[0m",
            "\u001b[0;31mNameError\u001b[0m                                 Traceback (most recent call last)",
            "\u001b[0;32m<ipython-input-7-5cb81e9be36d>\u001b[0m in \u001b[0;36m<module>\u001b[0;34m()\u001b[0m\n\u001b[1;32m      2\u001b[0m     \u001b[0mprint\u001b[0m\u001b[0;34m(\u001b[0m\u001b[0ms\u001b[0m\u001b[0;34m)\u001b[0m\u001b[0;34m\u001b[0m\u001b[0;34m\u001b[0m\u001b[0m\n\u001b[1;32m      3\u001b[0m \u001b[0;34m\u001b[0m\u001b[0m\n\u001b[0;32m----> 4\u001b[0;31m \u001b[0mfonksiyon\u001b[0m\u001b[0;34m(\u001b[0m\u001b[0;34m)\u001b[0m \u001b[0;31m# s global değişkeni henüz tanımlanmadığı için Python hata veriyor.\u001b[0m\u001b[0;34m\u001b[0m\u001b[0;34m\u001b[0m\u001b[0m\n\u001b[0m\u001b[1;32m      5\u001b[0m \u001b[0ms\u001b[0m \u001b[0;34m=\u001b[0m \u001b[0;34m\"Python\"\u001b[0m\u001b[0;34m\u001b[0m\u001b[0;34m\u001b[0m\u001b[0m\n",
            "\u001b[0;32m<ipython-input-7-5cb81e9be36d>\u001b[0m in \u001b[0;36mfonksiyon\u001b[0;34m()\u001b[0m\n\u001b[1;32m      1\u001b[0m \u001b[0;32mdef\u001b[0m \u001b[0mfonksiyon\u001b[0m\u001b[0;34m(\u001b[0m\u001b[0;34m)\u001b[0m\u001b[0;34m:\u001b[0m\u001b[0;34m\u001b[0m\u001b[0;34m\u001b[0m\u001b[0m\n\u001b[0;32m----> 2\u001b[0;31m     \u001b[0mprint\u001b[0m\u001b[0;34m(\u001b[0m\u001b[0ms\u001b[0m\u001b[0;34m)\u001b[0m\u001b[0;34m\u001b[0m\u001b[0;34m\u001b[0m\u001b[0m\n\u001b[0m\u001b[1;32m      3\u001b[0m \u001b[0;34m\u001b[0m\u001b[0m\n\u001b[1;32m      4\u001b[0m \u001b[0mfonksiyon\u001b[0m\u001b[0;34m(\u001b[0m\u001b[0;34m)\u001b[0m \u001b[0;31m# s global değişkeni henüz tanımlanmadığı için Python hata veriyor.\u001b[0m\u001b[0;34m\u001b[0m\u001b[0;34m\u001b[0m\u001b[0m\n\u001b[1;32m      5\u001b[0m \u001b[0ms\u001b[0m \u001b[0;34m=\u001b[0m \u001b[0;34m\"Python\"\u001b[0m\u001b[0;34m\u001b[0m\u001b[0;34m\u001b[0m\u001b[0m\n",
            "\u001b[0;31mNameError\u001b[0m: name 's' is not defined"
          ]
        }
      ]
    },
    {
      "cell_type": "code",
      "source": [
        "c = 10 # Globalde tanımlanmış bir değişken \n",
        "def fonksiyon():\n",
        "    c = 2 # Yerelde tanımlanmış bir değişken\n",
        "    print(c)  # Yerel değişken kullanılıyor.\n",
        "\n",
        "fonksiyon()\n",
        "print(c) #global degisken kullanılır"
      ],
      "metadata": {
        "colab": {
          "base_uri": "https://localhost:8080/"
        },
        "id": "M6ao0yfuf-rF",
        "outputId": "6a243273-5e8a-41ee-a6d7-185acd6b48dd"
      },
      "execution_count": null,
      "outputs": [
        {
          "output_type": "stream",
          "name": "stdout",
          "text": [
            "2\n",
            "10\n"
          ]
        }
      ]
    },
    {
      "cell_type": "code",
      "source": [
        "d = 10\n",
        "\n",
        "def fonksiyon():\n",
        "    global d #cok tavsiye edilmiyo,  #GLOBAL İFADESİ!! d = 4 ifadesiyle bir tane daha d değişkeni oluşturmuyoruz. Böylelikle d =4 ifadesiyle globaldeki değişkeninin değerini değiştirmiş oluyoruz.\n",
        "    \n",
        "    d = 4\n",
        "    print(d)\n",
        "fonksiyon()\n",
        "print(d)"
      ],
      "metadata": {
        "id": "U94Gy6Iif-to"
      },
      "execution_count": null,
      "outputs": []
    },
    {
      "cell_type": "code",
      "source": [
        ""
      ],
      "metadata": {
        "id": "JnIUg2Tvf-vj"
      },
      "execution_count": null,
      "outputs": []
    },
    {
      "cell_type": "markdown",
      "source": [
        "LAMBDA IFADELERİ\n",
        " etiket = lambda parametre1,parametre2.... :  İşlem"
      ],
      "metadata": {
        "id": "1I43-oRuhXu7"
      }
    },
    {
      "cell_type": "code",
      "source": [
        "def ikiylecarp(x): # Klasik fonksiyon tanımlama\n",
        "    return x * 2\n",
        "print(ikiylecarp(3))"
      ],
      "metadata": {
        "colab": {
          "base_uri": "https://localhost:8080/"
        },
        "id": "bN1ZQKJXf-x3",
        "outputId": "55164aa7-66bb-4d1c-b55b-b498020e220d"
      },
      "execution_count": null,
      "outputs": [
        {
          "output_type": "stream",
          "name": "stdout",
          "text": [
            "6\n"
          ]
        }
      ]
    },
    {
      "cell_type": "code",
      "source": [
        "ikiylecarp= lambda x: x*2  # x parametre x* 2 return ifadesi ve ikiyleçarp değeri de bir etikettir(değişken gibi düşünelim)"
      ],
      "metadata": {
        "id": "AhmTCIiNf-zv"
      },
      "execution_count": null,
      "outputs": []
    },
    {
      "cell_type": "code",
      "source": [
        "print(ikiylecarp(3))  # Buradaki 3 argümanı lambda ifadesindeki x'in yerine geçiyor."
      ],
      "metadata": {
        "colab": {
          "base_uri": "https://localhost:8080/"
        },
        "id": "NhTAyaYEic1v",
        "outputId": "72730f1d-749c-4b0e-e9ad-c1d6e1832690"
      },
      "execution_count": null,
      "outputs": [
        {
          "output_type": "stream",
          "name": "stdout",
          "text": [
            "6\n"
          ]
        }
      ]
    },
    {
      "cell_type": "code",
      "source": [
        "topla = lambda x,y,z : x + y + z\n",
        "print(topla(5,5,5))"
      ],
      "metadata": {
        "colab": {
          "base_uri": "https://localhost:8080/"
        },
        "id": "ILd4CGMliiS0",
        "outputId": "b621a607-6676-4fdc-a210-4b8f4a8a6a45"
      },
      "execution_count": null,
      "outputs": [
        {
          "output_type": "stream",
          "name": "stdout",
          "text": [
            "15\n"
          ]
        }
      ]
    },
    {
      "cell_type": "code",
      "source": [
        "#stringi ters cevirme\n",
        "def terscevir(s):\n",
        "  return s[::-1]\n",
        "\n",
        "terscevir(\"Zehra\")"
      ],
      "metadata": {
        "colab": {
          "base_uri": "https://localhost:8080/",
          "height": 35
        },
        "id": "nQ9ZJRaUjKms",
        "outputId": "e5c5323c-4e1c-4c97-9e7a-94f207f5526b"
      },
      "execution_count": null,
      "outputs": [
        {
          "output_type": "execute_result",
          "data": {
            "text/plain": [
              "'arheZ'"
            ],
            "application/vnd.google.colaboratory.intrinsic+json": {
              "type": "string"
            }
          },
          "metadata": {},
          "execution_count": 16
        }
      ]
    },
    {
      "cell_type": "code",
      "source": [
        "ters= lambda x : x[::-1]"
      ],
      "metadata": {
        "id": "RGYUYNDUjVvU"
      },
      "execution_count": null,
      "outputs": []
    },
    {
      "cell_type": "code",
      "source": [
        "print(ters(\"Zehra\"))"
      ],
      "metadata": {
        "colab": {
          "base_uri": "https://localhost:8080/"
        },
        "id": "8rJgevm7jiol",
        "outputId": "bd57c62a-8277-4981-908f-dcf6a10cf30b"
      },
      "execution_count": null,
      "outputs": [
        {
          "output_type": "stream",
          "name": "stdout",
          "text": [
            "arheZ\n"
          ]
        }
      ]
    },
    {
      "cell_type": "code",
      "source": [
        "#sayı cift mi\n",
        "çifttek = lambda sayı :  sayı % 2 == 0 "
      ],
      "metadata": {
        "id": "buAfhcofjoH_"
      },
      "execution_count": null,
      "outputs": []
    },
    {
      "cell_type": "code",
      "source": [
        "\n",
        "çifttek(14)"
      ],
      "metadata": {
        "colab": {
          "base_uri": "https://localhost:8080/"
        },
        "id": "8s3qa-A6jyJG",
        "outputId": "8e6850bb-29ba-4876-8a04-79a417caeb12"
      },
      "execution_count": null,
      "outputs": [
        {
          "output_type": "execute_result",
          "data": {
            "text/plain": [
              "True"
            ]
          },
          "metadata": {},
          "execution_count": 24
        }
      ]
    },
    {
      "cell_type": "code",
      "source": [
        ""
      ],
      "metadata": {
        "id": "uyl4PQE4j0IF"
      },
      "execution_count": null,
      "outputs": []
    },
    {
      "cell_type": "markdown",
      "source": [
        "Problem 1\n",
        "1'den 1000'e kadar olan sayılardan mükemmel sayı olanları ekrana yazdırın. Bunun için bir sayının mükemmel olup olmadığını dönen bir tane fonksiyon yazın.\n",
        "\n",
        "Bir sayının bölenlerinin toplamı kendine eşitse bu sayı mükemmel bir sayıdır. Örnek olarak 6 mükemmel bir sayıdır (1 + 2 + 3 = 6).\n",
        "\n",
        "Problem 2\n",
        "Kullanıcıdan 2 tane sayı alarak bu sayıların en büyük ortak bölenini (EBOB) dönen bir tane fonksiyon yazın.\n",
        "\n",
        "Problem için şu siteye bakabilirsiniz;\n",
        "\n",
        "http://www.matematikciler.com/6-sinif/matematik-konu-anlatimlari/1020-en-kucuk-ortak-kat-ve-en-buyuk-ortak-bolen-ebob-ekok\n",
        "\n",
        "Problem 3\n",
        "Kullanıcıdan 2 tane sayı alarak bu sayıların en küçük ortak katlarını (EKOK) dönen bir tane fonksiyon yazın.\n",
        "\n",
        "Problem için şu siteye bakabilirsiniz;\n",
        "\n",
        "http://www.matematikciler.com/6-sinif/matematik-konu-anlatimlari/1020-en-kucuk-ortak-kat-ve-en-buyuk-ortak-bolen-ebob-ekok\n",
        "\n",
        "Problem 4\n",
        "Kullanıcıdan 2 basamaklı bir sayı alın ve bu sayının okunuşunu bulan bir fonksiyon yazın.\n",
        "\n",
        "Örnek: 97 ---------> Doksan Yedi\n",
        "\n",
        "Problem 5\n",
        "1'den 100'e kadar olan sayılardan pisagor üçgeni oluşturanları ekrana yazdıran bir fonksiyon yazın.(a <= 100,b <= 100)\n"
      ],
      "metadata": {
        "id": "b0p-9CQ4kRy2"
      }
    },
    {
      "cell_type": "code",
      "source": [
        ""
      ],
      "metadata": {
        "id": "CcRpgfatk-IO"
      },
      "execution_count": null,
      "outputs": []
    },
    {
      "cell_type": "code",
      "source": [
        ""
      ],
      "metadata": {
        "id": "YUWT1YtHk-MT"
      },
      "execution_count": null,
      "outputs": []
    },
    {
      "cell_type": "code",
      "source": [
        ""
      ],
      "metadata": {
        "id": "1gWKI4Fvk-Oh"
      },
      "execution_count": null,
      "outputs": []
    },
    {
      "cell_type": "code",
      "source": [
        ""
      ],
      "metadata": {
        "id": "85ySdXuRk-Qq"
      },
      "execution_count": null,
      "outputs": []
    },
    {
      "cell_type": "code",
      "source": [
        ""
      ],
      "metadata": {
        "id": "0FjR-K--k-S9"
      },
      "execution_count": null,
      "outputs": []
    },
    {
      "cell_type": "code",
      "source": [
        ""
      ],
      "metadata": {
        "id": "SptqdR8Yk-VN"
      },
      "execution_count": null,
      "outputs": []
    },
    {
      "cell_type": "markdown",
      "source": [
        "Modül Mantığı\n",
        "Bu konuda modüllerin ne demek olduğunu ve mantığını anlamaya çalışacağız.\n",
        "\n",
        "Pythonda aslında herbir dosya bir modüldür ve her bir modül içinde fonksiyonlar, sınıflar ve objeler barındırır. Biz de bu modülleri programımıza dahil ederek içindeki fonksiyonlardan, sınıflardan ve objelerden faydalanabiliriz.\n",
        "\n",
        "Gerçek hayattan benzetme yapacak olursak bir matematik ödevini yaparken kullandığımız formül kitabı aslında bir modül olarak düşünülebilir. Bu kitabı ödev yaparken kullanarak ödevimizi çok hızlı ve pratik bir şekilde bitirebiliriz.\n",
        "\n",
        "Pythonda da modül kavramı oldukça önemli bir kavramdır. Bir Python modülünü programımıza dahil ederek bu modüller içinde yazılan fonksiyonlardan ve sınıflardan kullanabilir ve programlarımızı daha efektif bir şekilde yazabiliriz. Eğer modül diye bir kavram olmasaydı, programlarımızdaki herbir fonksiyonu ve sınıfı kendimiz yazmak zorunda kalacaktık.\n"
      ],
      "metadata": {
        "id": "qeZpebRgk9Ot"
      }
    },
    {
      "cell_type": "code",
      "source": [
        "import math as matematik\n",
        "matematik.factorial(6) # Modülü artık matematik ismiyle kullanabiliriz."
      ],
      "metadata": {
        "colab": {
          "base_uri": "https://localhost:8080/"
        },
        "id": "JOH3dut3lAbn",
        "outputId": "a6e104bf-c5c5-45e9-d05f-83105f819720"
      },
      "execution_count": null,
      "outputs": [
        {
          "output_type": "execute_result",
          "data": {
            "text/plain": [
              "720"
            ]
          },
          "metadata": {},
          "execution_count": 25
        }
      ]
    },
    {
      "cell_type": "code",
      "source": [
        "help(math) # Fonksiyonların görevlerini görebilmek için help fonksiyonunu kullanabiliriz."
      ],
      "metadata": {
        "id": "Nzhz_c9klAeQ"
      },
      "execution_count": null,
      "outputs": []
    },
    {
      "cell_type": "code",
      "source": [
        "help(math.factorial)"
      ],
      "metadata": {
        "id": "ts9yKqyXlAgu"
      },
      "execution_count": null,
      "outputs": []
    },
    {
      "cell_type": "code",
      "source": [
        "from math import * # Yıldızın anlamı math modülünün içindeki bütün fonksiyonları almak istediğimizi belirtiyor."
      ],
      "metadata": {
        "id": "h9bk9q2clAp-"
      },
      "execution_count": null,
      "outputs": []
    },
    {
      "cell_type": "code",
      "source": [
        "factorial(5) #Peki böyle bir durumda math modülünün içindeki fonksiyonları nasıl kullanacağız. Bunun için modül ismini yazmamıza gerek kalmamaktadır."
      ],
      "metadata": {
        "colab": {
          "base_uri": "https://localhost:8080/"
        },
        "id": "_3XwLugxlAtA",
        "outputId": "bd4e4dea-b9c4-4cf3-e574-4fe56804be78"
      },
      "execution_count": null,
      "outputs": [
        {
          "output_type": "execute_result",
          "data": {
            "text/plain": [
              "120"
            ]
          },
          "metadata": {},
          "execution_count": 27
        }
      ]
    },
    {
      "cell_type": "code",
      "source": [
        "from math import factorial,floor # Sadece 2 tanesini dahil ettik.\n",
        "factorial(5)\n",
        "\n",
        "floor(3.5)\n",
        "\n"
      ],
      "metadata": {
        "colab": {
          "base_uri": "https://localhost:8080/"
        },
        "id": "LQ9yloDmmLZe",
        "outputId": "7dce5abc-b3a5-4909-b8da-90c461e854ac"
      },
      "execution_count": null,
      "outputs": [
        {
          "output_type": "execute_result",
          "data": {
            "text/plain": [
              "3"
            ]
          },
          "metadata": {},
          "execution_count": 33
        }
      ]
    },
    {
      "cell_type": "code",
      "source": [
        "factorial(5)"
      ],
      "metadata": {
        "colab": {
          "base_uri": "https://localhost:8080/"
        },
        "id": "yrVDtwMXmQj6",
        "outputId": "6783186a-5d53-49e3-b68a-28a4a13a5421"
      },
      "execution_count": null,
      "outputs": [
        {
          "output_type": "execute_result",
          "data": {
            "text/plain": [
              "120"
            ]
          },
          "metadata": {},
          "execution_count": 34
        }
      ]
    },
    {
      "cell_type": "code",
      "source": [
        "\n",
        "floor(3.5)"
      ],
      "metadata": {
        "colab": {
          "base_uri": "https://localhost:8080/"
        },
        "id": "P7pB2nIamYAS",
        "outputId": "c8f6a819-3304-430f-c020-6d5fe5f7343c"
      },
      "execution_count": null,
      "outputs": [
        {
          "output_type": "execute_result",
          "data": {
            "text/plain": [
              "3"
            ]
          },
          "metadata": {},
          "execution_count": 35
        }
      ]
    },
    {
      "cell_type": "code",
      "source": [
        "ceil(3.4) # Dahil etmediğimiz için hata verdi.(usttekinden oturu vermedi ama normalde verio)"
      ],
      "metadata": {
        "colab": {
          "base_uri": "https://localhost:8080/"
        },
        "id": "wL8YIH4XmZcr",
        "outputId": "312a5186-0c6e-44f0-d0e9-5f2b2a2dc4b4"
      },
      "execution_count": null,
      "outputs": [
        {
          "output_type": "execute_result",
          "data": {
            "text/plain": [
              "4"
            ]
          },
          "metadata": {},
          "execution_count": 36
        }
      ]
    },
    {
      "cell_type": "code",
      "source": [
        "import math"
      ],
      "metadata": {
        "id": "LzvhESF8n0Ms"
      },
      "execution_count": null,
      "outputs": []
    },
    {
      "cell_type": "code",
      "source": [
        "dir(math) #modulun icindeki fonkları gosteriyo"
      ],
      "metadata": {
        "colab": {
          "base_uri": "https://localhost:8080/"
        },
        "id": "nkxOElrNmbif",
        "outputId": "4ad2f645-d384-4743-ce4b-43b5ea3eea4f"
      },
      "execution_count": null,
      "outputs": [
        {
          "output_type": "execute_result",
          "data": {
            "text/plain": [
              "['__doc__',\n",
              " '__loader__',\n",
              " '__name__',\n",
              " '__package__',\n",
              " '__spec__',\n",
              " 'acos',\n",
              " 'acosh',\n",
              " 'asin',\n",
              " 'asinh',\n",
              " 'atan',\n",
              " 'atan2',\n",
              " 'atanh',\n",
              " 'ceil',\n",
              " 'copysign',\n",
              " 'cos',\n",
              " 'cosh',\n",
              " 'degrees',\n",
              " 'e',\n",
              " 'erf',\n",
              " 'erfc',\n",
              " 'exp',\n",
              " 'expm1',\n",
              " 'fabs',\n",
              " 'factorial',\n",
              " 'floor',\n",
              " 'fmod',\n",
              " 'frexp',\n",
              " 'fsum',\n",
              " 'gamma',\n",
              " 'gcd',\n",
              " 'hypot',\n",
              " 'inf',\n",
              " 'isclose',\n",
              " 'isfinite',\n",
              " 'isinf',\n",
              " 'isnan',\n",
              " 'ldexp',\n",
              " 'lgamma',\n",
              " 'log',\n",
              " 'log10',\n",
              " 'log1p',\n",
              " 'log2',\n",
              " 'modf',\n",
              " 'nan',\n",
              " 'pi',\n",
              " 'pow',\n",
              " 'radians',\n",
              " 'remainder',\n",
              " 'sin',\n",
              " 'sinh',\n",
              " 'sqrt',\n",
              " 'tan',\n",
              " 'tanh',\n",
              " 'tau',\n",
              " 'trunc']"
            ]
          },
          "metadata": {},
          "execution_count": 40
        }
      ]
    },
    {
      "cell_type": "code",
      "source": [
        ""
      ],
      "metadata": {
        "id": "l2_CzDmynt_i"
      },
      "execution_count": null,
      "outputs": []
    }
  ]
}